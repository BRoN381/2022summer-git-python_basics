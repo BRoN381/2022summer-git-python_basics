{
 "cells": [
  {
   "cell_type": "code",
   "execution_count": 1,
   "metadata": {},
   "outputs": [
    {
     "name": "stdout",
     "output_type": "stream",
     "text": [
      "There are 539 sentences in HW1.txt. 169 of them include !?+-.\n",
      "length before trim after trim\n",
      "  <=40          33         43\n",
      "  <=50         173        203\n",
      "  <=60         154        141\n",
      "  <=70         114        112\n",
      "  <=80          55         39\n",
      "   >80          10          1\n"
     ]
    }
   ],
   "source": [
    "symlines = 0\n",
    "lenDic = {'40': [0,0], '50': [0,0], '60': [0,0], '70': [0,0], '80': [0,0], '81': [0,0]}\n",
    "symbolList = ['!', '?', '+', '-']\n",
    "def trimSymbol(line):\n",
    "    for i in symbolList:\n",
    "        line = line.replace(i,'')\n",
    "    return line\n",
    "\n",
    "def countLength(lenI, num):\n",
    "    if lenI <= 40: \n",
    "        lenDic['40'][num] += 1\n",
    "    elif lenI <= 50:\n",
    "        lenDic['50'][num] += 1\n",
    "    elif lenI <= 60:\n",
    "        lenDic['60'][num] += 1\n",
    "    elif lenI <= 70:\n",
    "        lenDic['70'][num] += 1\n",
    "    elif lenI <= 80:\n",
    "        lenDic['80'][num] += 1\n",
    "    else:\n",
    "        lenDic['81'][num] += 1\n",
    "    return\n",
    "\n",
    "with open('HW1q.txt') as f:\n",
    "    text = f.read()\n",
    "\n",
    "totalLines = text.count('\\n')+1 #count lines\n",
    "lines = text.split('\\n')\n",
    "for i in lines: #find lines with symbol\n",
    "    for j in symbolList:\n",
    "        if j in i:\n",
    "            symlines += 1\n",
    "            break\n",
    "    \n",
    "    lenI = len(i)\n",
    "    countLength(lenI,0)\n",
    "    lenTrim = len(trimSymbol(i))\n",
    "    countLength(lenTrim,1)\n",
    "\n",
    "print('There are', totalLines, 'sentences in HW1.txt.', symlines,'of them include !?+-.')\n",
    "print('length before trim after trim')\n",
    "print('%6s' % '<=40', '%11s' % lenDic['40'][0], '%10s' % lenDic['40'][1])\n",
    "print('%6s' % '<=50', '%11s' % lenDic['50'][0], '%10s' % lenDic['50'][1])\n",
    "print('%6s' % '<=60', '%11s' % lenDic['60'][0], '%10s' % lenDic['60'][1])\n",
    "print('%6s' % '<=70', '%11s' % lenDic['70'][0], '%10s' % lenDic['70'][1])\n",
    "print('%6s' % '<=80', '%11s' % lenDic['80'][0], '%10s' % lenDic['80'][1])\n",
    "print('%6s' % '>80', '%11s' % lenDic['81'][0], '%10s' % lenDic['81'][1])"
   ]
  }
 ],
 "metadata": {
  "kernelspec": {
   "display_name": "Python 3.9.12 ('base': conda)",
   "language": "python",
   "name": "python3"
  },
  "language_info": {
   "name": "python",
   "version": "3.9.12"
  },
  "orig_nbformat": 4,
  "vscode": {
   "interpreter": {
    "hash": "6af86424e5ba96d8bc993f42acd91856d14f87a7e1e42d771cf17f2608f96895"
   }
  }
 },
 "nbformat": 4,
 "nbformat_minor": 2
}
